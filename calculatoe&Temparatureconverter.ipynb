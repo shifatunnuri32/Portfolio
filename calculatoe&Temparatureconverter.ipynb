{
  "nbformat": 4,
  "nbformat_minor": 0,
  "metadata": {
    "colab": {
      "provenance": [],
      "authorship_tag": "ABX9TyPMZsQjAjpSouPrG8ezzzou",
      "include_colab_link": true
    },
    "kernelspec": {
      "name": "python3",
      "display_name": "Python 3"
    },
    "language_info": {
      "name": "python"
    }
  },
  "cells": [
    {
      "cell_type": "markdown",
      "metadata": {
        "id": "view-in-github",
        "colab_type": "text"
      },
      "source": [
        "<a href=\"https://colab.research.google.com/github/shifatunnuri32/Portfolio/blob/main/calculatoe%26Temparatureconverter.ipynb\" target=\"_parent\"><img src=\"https://colab.research.google.com/assets/colab-badge.svg\" alt=\"Open In Colab\"/></a>"
      ]
    },
    {
      "cell_type": "code",
      "execution_count": 5,
      "metadata": {
        "id": "rlknAvnKIdAr",
        "colab": {
          "base_uri": "https://localhost:8080/"
        },
        "outputId": "874c76a8-d7e2-4c42-eae6-84d23338a448"
      },
      "outputs": [
        {
          "output_type": "stream",
          "name": "stdout",
          "text": [
            "Enter first number: 30.7\n",
            "Enter operation (+, -, *, /, %): +\n",
            "Enter second number: 4\n",
            "Result: 34.7\n"
          ]
        }
      ],
      "source": [
        "# Simple Calculator in Python\n",
        "def calculator():\n",
        "    num1 = float(input(\"Enter first number: \"))\n",
        "    op = input(\"Enter operation (+, -, *, /, %): \")\n",
        "    num2 = float(input(\"Enter second number: \"))\n",
        "\n",
        "    if op == '+':\n",
        "        print(\"Result:\", num1 + num2)\n",
        "    elif op == '-':\n",
        "        print(\"Result:\", num1 - num2)\n",
        "    elif op == '*':\n",
        "        print(\"Result:\", num1 * num2)\n",
        "    elif op == '/':\n",
        "        if num2 != 0:\n",
        "            print(\"Result:\", num1 / num2)\n",
        "        else:\n",
        "            print(\"Error: Division by zero!\")\n",
        "    elif op == '%':\n",
        "        if num2 != 0:\n",
        "            print(\"Result:\", num1 % num2)\n",
        "        else:\n",
        "            print(\"Error: Division by zero!\")\n",
        "    else:\n",
        "        print(\"Invalid operator!\")\n",
        "\n",
        "calculator()\n"
      ]
    },
    {
      "cell_type": "code",
      "source": [
        "#Temparature converter\n",
        "def temp_converter():\n",
        "  tem=input(\"Convert From C/F :\").upper()\n",
        "  if tem == \"C\":\n",
        "    celcius=float(input(\"Enter temparature in celcius: \"))\n",
        "    formula=(celcius *9/5)+32\n",
        "    print(formula,\"Farenhite\")\n",
        "  elif tem== \"F\":\n",
        "    Farenhite=float(input(\"Enter temparature in Farenhite: \"))\n",
        "    formula_2=(Farenhite-32) *5/9\n",
        "    print(formula_2,\"Celcius\")\n",
        "  else:\n",
        "    print(\"invalid choice\")\n",
        "\n",
        "temp_converter()\n"
      ],
      "metadata": {
        "colab": {
          "base_uri": "https://localhost:8080/"
        },
        "id": "9Kc9tNetuf9t",
        "outputId": "2cc7d194-6b6d-4603-ed47-ca56333fd26f"
      },
      "execution_count": 33,
      "outputs": [
        {
          "output_type": "stream",
          "name": "stdout",
          "text": [
            "Convert From C/F :c\n",
            "Enter temparature in celcius: 27\n",
            "80.6 Farenhite\n"
          ]
        }
      ]
    }
  ]
}